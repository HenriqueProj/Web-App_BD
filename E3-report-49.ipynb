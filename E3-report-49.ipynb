{
  "cells": [
    {
      "cell_type": "markdown",
      "id": "19b43aee-c23f-4ef7-8547-9c309b2dbecb",
      "metadata": {
        "id": "19b43aee-c23f-4ef7-8547-9c309b2dbecb"
      },
      "source": [
        "# Projeto de Bases de Dados - Parte 3\n",
        "\n",
        "### Docente Responsável\n",
        "\n",
        "Prof. Daniel Faria\n",
        "\n",
        "### Turno L14 - Grupo 49\n",
        "<dl>\n",
        "    <dt>34 horas (33%)</dt>\n",
        "    <dd>ist1103479 Afonso Matos</dd>\n",
        "    <dt>34 horas (33%)</dt>\n",
        "    <dd>ist1103860 Henrique Caroço</dd>\n",
        "    <dt>34 horas (34%)</dt>\n",
        "    <dd>ist1103883 Luís Calado</dd>\n",
        "<dl>"
      ]
    },
    {
      "cell_type": "code",
      "execution_count": null,
      "id": "a6545a02-adea-4c57-b704-cfa1f6253e4b",
      "metadata": {
        "execution": {
          "iopub.execute_input": "2023-06-10T10:21:15.252710Z",
          "iopub.status.busy": "2023-06-10T10:21:15.251787Z",
          "iopub.status.idle": "2023-06-10T10:21:15.856700Z",
          "shell.execute_reply": "2023-06-10T10:21:15.855113Z",
          "shell.execute_reply.started": "2023-06-10T10:21:15.252678Z"
        },
        "id": "a6545a02-adea-4c57-b704-cfa1f6253e4b",
        "tags": []
      },
      "outputs": [],
      "source": [
        "%load_ext sql\n",
        "%sql postgresql://db:db@postgres/db"
      ]
    },
    {
      "cell_type": "markdown",
      "id": "1c5deb6e-396e-401f-9b09-af4cd09491a9",
      "metadata": {
        "id": "1c5deb6e-396e-401f-9b09-af4cd09491a9",
        "tags": []
      },
      "source": [
        "# Empresa de comércio online"
      ]
    },
    {
      "cell_type": "markdown",
      "id": "76eab1e8-8d6a-41e3-b242-553a7f14ba84",
      "metadata": {
        "id": "76eab1e8-8d6a-41e3-b242-553a7f14ba84",
        "tags": []
      },
      "source": [
        "## 0. Carregamento da Base de Dados"
      ]
    },
    {
      "cell_type": "markdown",
      "id": "e047df4e-b18b-4c70-8f7b-378b4201ee01",
      "metadata": {
        "id": "e047df4e-b18b-4c70-8f7b-378b4201ee01"
      },
      "source": [
        "Carregue o esquema de Base de Dados apresentado no Anexo A."
      ]
    },
    {
      "cell_type": "code",
      "execution_count": null,
      "id": "c718077c-5193-47a0-bb76-8f1f43a713be",
      "metadata": {
        "execution": {
          "iopub.execute_input": "2023-06-10T11:31:39.436344Z",
          "iopub.status.busy": "2023-06-10T11:31:39.435355Z",
          "iopub.status.idle": "2023-06-10T11:31:40.356979Z",
          "shell.execute_reply": "2023-06-10T11:31:40.350443Z",
          "shell.execute_reply.started": "2023-06-10T11:31:39.436297Z"
        },
        "id": "c718077c-5193-47a0-bb76-8f1f43a713be",
        "tags": []
      },
      "outputs": [],
      "source": [
        "%%sql\n",
        "\n",
        "DROP TABLE IF EXISTS customer CASCADE;\n",
        "DROP TABLE IF EXISTS orders CASCADE;\n",
        "DROP TABLE IF EXISTS pay CASCADE;\n",
        "DROP TABLE IF EXISTS employee CASCADE;\n",
        "DROP TABLE IF EXISTS process CASCADE;\n",
        "DROP TABLE IF EXISTS department CASCADE;\n",
        "DROP TABLE IF EXISTS workplace CASCADE;\n",
        "DROP TABLE IF EXISTS works CASCADE;\n",
        "DROP TABLE IF EXISTS office CASCADE;\n",
        "DROP TABLE IF EXISTS warehouse CASCADE;\n",
        "DROP TABLE IF EXISTS product CASCADE;\n",
        "DROP TABLE IF EXISTS contains CASCADE;\n",
        "DROP TABLE IF EXISTS supplier CASCADE;\n",
        "DROP TABLE IF EXISTS delivery CASCADE;\n",
        "\n",
        "CREATE TABLE customer(\n",
        "cust_no INTEGER PRIMARY KEY,\n",
        "name VARCHAR(80) NOT NULL,\n",
        "email VARCHAR(254) UNIQUE NOT NULL,\n",
        "phone VARCHAR(15),\n",
        "address VARCHAR(255)\n",
        ");\n",
        "\n",
        "CREATE TABLE orders(\n",
        "order_no INTEGER PRIMARY KEY,\n",
        "cust_no INTEGER NOT NULL REFERENCES customer,\n",
        "date DATE NOT NULL\n",
        "--order_no must exist in contains\n",
        ");\n",
        "\n",
        "CREATE TABLE pay(\n",
        "order_no INTEGER PRIMARY KEY REFERENCES orders,\n",
        "cust_no INTEGER NOT NULL REFERENCES customer\n",
        ");\n",
        "\n",
        "CREATE TABLE employee(\n",
        "ssn VARCHAR(20) PRIMARY KEY,\n",
        "TIN VARCHAR(20) UNIQUE NOT NULL,\n",
        "bdate DATE,\n",
        "name VARCHAR NOT NULL\n",
        "--age must be >=18\n",
        ");\n",
        "\n",
        "CREATE TABLE process(\n",
        "ssn VARCHAR(20) REFERENCES employee,\n",
        "order_no INTEGER REFERENCES orders,\n",
        "PRIMARY KEY (ssn, order_no)\n",
        ");\n",
        "\n",
        "CREATE TABLE department(\n",
        "name VARCHAR PRIMARY KEY\n",
        ");\n",
        "\n",
        "CREATE TABLE workplace(\n",
        "address VARCHAR PRIMARY KEY,\n",
        "lat NUMERIC(8, 6) NOT NULL,\n",
        "long NUMERIC(9, 6) NOT NULL,\n",
        "UNIQUE(lat, long)\n",
        "--address must be in warehouse or office but not both\n",
        ");\n",
        "\n",
        "CREATE TABLE office(\n",
        "address VARCHAR(255) PRIMARY KEY REFERENCES workplace\n",
        ");\n",
        "\n",
        "CREATE TABLE warehouse(\n",
        "address VARCHAR(255) PRIMARY KEY REFERENCES workplace\n",
        ");\n",
        "\n",
        "CREATE TABLE works(\n",
        "ssn VARCHAR(20) REFERENCES employee,\n",
        "name VARCHAR(200) REFERENCES department,\n",
        "address VARCHAR(255) REFERENCES workplace,\n",
        "PRIMARY KEY (ssn, name, address)\n",
        ");\n",
        "\n",
        "CREATE TABLE product(\n",
        "SKU VARCHAR(25) PRIMARY KEY,\n",
        "name VARCHAR(200) NOT NULL,\n",
        "description VARCHAR,\n",
        "price NUMERIC(10, 2) NOT NULL,\n",
        "ean NUMERIC(13) UNIQUE\n",
        ");\n",
        "\n",
        "CREATE TABLE contains(\n",
        "order_no INTEGER REFERENCES orders,\n",
        "SKU VARCHAR(25) REFERENCES product,\n",
        "qty INTEGER,\n",
        "PRIMARY KEY (order_no, SKU)\n",
        ");\n",
        "\n",
        "CREATE TABLE supplier(\n",
        "TIN VARCHAR(20) PRIMARY KEY,\n",
        "name VARCHAR(200),\n",
        "address VARCHAR(255),\n",
        "SKU VARCHAR(25) REFERENCES product,\n",
        "date DATE\n",
        ");\n",
        "\n",
        "CREATE TABLE delivery(\n",
        "address VARCHAR(255) REFERENCES warehouse,\n",
        "TIN VARCHAR(20) REFERENCES supplier,\n",
        "PRIMARY KEY (address, TIN)\n",
        ");"
      ]
    },
    {
      "cell_type": "markdown",
      "id": "25fcb3f3-2ec6-4264-bd74-d07bfd56fa76",
      "metadata": {
        "id": "25fcb3f3-2ec6-4264-bd74-d07bfd56fa76"
      },
      "source": [
        "Crie as instruções para o seu preenchimento de forma consistente, garantindo que todas as consultas SQL e OLAP, apresentadas mais adiante, produzam um resultado não vazio."
      ]
    },
    {
      "cell_type": "code",
      "execution_count": null,
      "id": "e33d841c-c21e-4a9a-88b4-00b45b039261",
      "metadata": {
        "execution": {
          "iopub.execute_input": "2023-06-10T11:31:41.479492Z",
          "iopub.status.busy": "2023-06-10T11:31:41.478473Z",
          "iopub.status.idle": "2023-06-10T11:31:42.210388Z",
          "shell.execute_reply": "2023-06-10T11:31:42.208662Z",
          "shell.execute_reply.started": "2023-06-10T11:31:41.479448Z"
        },
        "id": "e33d841c-c21e-4a9a-88b4-00b45b039261",
        "tags": []
      },
      "outputs": [],
      "source": [
        "%%sql\n",
        "-- populate.sql\n",
        "\n",
        "INSERT INTO customer VALUES (1,'Afonso', 'afonso@gmail.com', '9193510606', 'Rua das Flores 123 4000-001 Porto'),\n",
        "    (3,'Henrique', 'henrique@gmail.com', '934567128', 'Avenida da Liberdade 456 3000-002 Coimbra'),\n",
        "    (6,'Luís', 'luis@gmail.com', '976268091', 'Rua dos Moinhos 789 8000-003 Faro'),\n",
        "    (4,'Tiago', 'tiago@gmail.com', '919191911', 'Travessa das Oliveiras 987 7300-004 Portalegre'),\n",
        "    (5,'Artur', 'artur@gmail.com', '901234567', 'Praça do Comércio 654 1000-005 Lisboa'),\n",
        "    (12,'Joel', 'joel@gmail.com', '930310101', 'Rua das Rosas 321 1600-006 Telheiras'),\n",
        "    (11,'Joana', 'joana@gmail.com', '981212123', 'Avenida Central 654 1800-007 Olivais'),\n",
        "    (10,'Anacleto', 'anacleto@gmail.com', '929737201', 'Rua dos Pinheiros 789 2350-008 Torres Novas'),\n",
        "    (8, 'Mariana', 'mariana@gmail.com', '968335213', 'Rua da Fonte 987 7300-009 Portalegre');\n",
        "\n",
        "INSERT INTO orders VALUES (1, 1, '2022-02-23'), (12, 1, '2023-01-01'),\n",
        "    (2, 6, '2023-01-23'), (14, 12, '2023-03-01'), (25, 11, '2023-04-25'),\n",
        "    (35, 10, '2023-01-11'),(3, 12, '2022-03-01'),(4, 12, '2022-04-20'),(5, 12, '2022-05-20'),\n",
        "    (6, 3, '2022-05-27'), (7, 4, '2022-08-31'), (23, 8, '2022-05-13');\n",
        "\n",
        "\n",
        "INSERT INTO pay VALUES (1,1), (2,6), (14, 12), (25, 11), (35, 10), (3, 12), (23, 8), (4, 12);\n",
        "\n",
        "\n",
        "INSERT INTO employee VALUES ('123771324', '456900223', '2005-01-09', 'Samuel'),\n",
        "    ('222577451', '303215303', '2004-12-12', 'João'),\n",
        "    ('311584033', '219238932', '1990-04-14', 'Rodrigo'),\n",
        "    ('123456789', '987654321', '1990-01-01', 'Miguel'),\n",
        "    ('234567890', '876543210', '1992-05-15' , 'Jonas'),\n",
        "    ('345678901', '765432109', '1988-11-30', 'Ana');\n",
        "\n",
        "INSERT INTO process VALUES ('345678901', 1), ('222577451', 2),\n",
        "    ('123771324', 14), ('234567890', 25), ('311584033', 35),('345678901',3), ('345678901',4),('345678901',23);\n",
        "\n",
        "INSERT INTO department VALUES ('Marketing'), ('HR'), ('PR'),\n",
        "    ('Sales'), ('DevTeam'), ('Finance');\n",
        "\n",
        "INSERT INTO workplace VALUES ('Rua dos Lírios 1000-001 Lisboa', 45, 20),\n",
        "    ('Rua das Rosas 1000-002 Lisboa', 42, 23), ('Rua das Flores 2740-122 Oeiras', 14, 64),\n",
        "    ('Rua dos Girassóis 1600-001 Lisboa', 12.34689, 78.9012),\n",
        "    ('Rua dos Cravos 1800-001 Lisboa', 34.567, 90.234),\n",
        "    ('Rua das Violetas 2350-001 Torres Novas', 56.890, 12.356);\n",
        "\n",
        "INSERT INTO office VALUES ('Rua das Flores 2740-122 Oeiras'),\n",
        "    ('Rua dos Girassóis 1600-001 Lisboa'),\n",
        "    ('Rua das Violetas 2350-001 Torres Novas');\n",
        "\n",
        "INSERT INTO warehouse VALUES ('Rua das Rosas 1000-002 Lisboa'), ('Rua dos Lírios 1000-001 Lisboa'),\n",
        "    ('Rua dos Cravos 1800-001 Lisboa');\n",
        "\n",
        "INSERT INTO works VALUES ('123771324', 'Marketing','Rua das Flores 2740-122 Oeiras'),\n",
        "    ('222577451',  'HR','Rua das Rosas 1000-002 Lisboa'),\n",
        "    ('311584033',  'HR','Rua dos Lírios 1000-001 Lisboa'),\n",
        "    ('311584033', 'PR','Rua das Rosas 1000-002 Lisboa'),\n",
        "    ('123456789',  'Sales','Rua dos Girassóis 1600-001 Lisboa'),\n",
        "    ('234567890',  'DevTeam','Rua dos Cravos 1800-001 Lisboa'),\n",
        "    ('345678901',  'Finance','Rua das Violetas 2350-001 Torres Novas');\n",
        "\n",
        "INSERT INTO product VALUES (123, 'Headphones JBL', '......', 100,1001),\n",
        "    (22, 'Carregador Iphone', 'Carregamento rápido', 20,1002),\n",
        "    (1, 'Rato wireless', 'Básico', 15,1003),\n",
        "    (121, 'Pc', '15.6 polegadas,...', 1000,1004),\n",
        "    (111, 'Cabo Usb', 'Cabo Usb 2 metros', 9.99,1005),\n",
        "    (232, 'Carregador Wireless', 'Carregador Wireless novo', 19.99,1006),\n",
        "    (3444, 'Teclado', 'Teclado Mecânico', 59.99,1007);\n",
        "\n",
        "INSERT INTO contains VALUES (12, 22, 1), (1, 123, 60),\n",
        "    (2, 121, 3), (14, 111, 2), (25, 232, 4), (35, 3444, 1), (5,22,1),\n",
        "    (4,232,3), (3,3444,1), (6,123,3), (7,111,4), (23,3444,2);\n",
        "\n",
        "INSERT INTO supplier VALUES (123123123, 'JBL', 'Rua da Liberdade 123 1000-001 Braga', 123,'01-01-2023'),\n",
        "    (987654321, 'Basic Supplier', 'Rua das Flores 456 1000-002 Lisboa', 111,'02-02-2023'),\n",
        "    (876543210, 'Supplier Plus', 'Rua dos Lírios 789 2740-122 Oeiras', 232,'03-03-2023'),\n",
        "    (765432109, 'Supplier Premium', 'Rua da Boavista 987 3444-555 Porto', 3444,'04-04-2023');\n",
        "\n",
        "INSERT INTO delivery VALUES ('Rua das Rosas 1000-002 Lisboa', 123123123),\n",
        "    ('Rua dos Lírios 1000-001 Lisboa', 123123123),\n",
        "    ('Rua dos Cravos 1800-001 Lisboa', 876543210);"
      ]
    },
    {
      "cell_type": "markdown",
      "id": "9772880f-58f0-46c8-9670-737390210bb4",
      "metadata": {
        "id": "9772880f-58f0-46c8-9670-737390210bb4",
        "tags": []
      },
      "source": [
        "## 1. Restrições de Integridade\n",
        "\n",
        "Apresente o código para implementar as seguintes restrições de integridade, se necessário, com recurso a extensões procedimentais SQL (Stored Procedures e Triggers):"
      ]
    },
    {
      "cell_type": "markdown",
      "id": "a0a92dd6-9093-4f4e-addf-591d83c466b3",
      "metadata": {
        "id": "a0a92dd6-9093-4f4e-addf-591d83c466b3"
      },
      "source": [
        "(RI-1) Nenhum empregado pode ter menos de 18 anos de idade"
      ]
    },
    {
      "cell_type": "markdown",
      "id": "OLSiIgGtQmR8",
      "metadata": {
        "id": "OLSiIgGtQmR8"
      },
      "source": []
    },
    {
      "cell_type": "code",
      "execution_count": null,
      "id": "c422052c-0463-46ae-9be1-b6f6ed19d2b9",
      "metadata": {
        "execution": {
          "iopub.execute_input": "2023-06-10T10:22:07.397550Z",
          "iopub.status.busy": "2023-06-10T10:22:07.396512Z",
          "iopub.status.idle": "2023-06-10T10:22:08.016947Z",
          "shell.execute_reply": "2023-06-10T10:22:08.015248Z",
          "shell.execute_reply.started": "2023-06-10T10:22:07.397507Z"
        },
        "id": "c422052c-0463-46ae-9be1-b6f6ed19d2b9",
        "tags": []
      },
      "outputs": [],
      "source": [
        "%%sql\n",
        "-- (RI-1)\n",
        "ALTER TABLE employee ADD CONSTRAINT check_age CHECK (date_part('year', age(bdate)) >= 18);"
      ]
    },
    {
      "cell_type": "markdown",
      "id": "e99193b5-fd48-4601-a226-34432074af53",
      "metadata": {
        "id": "e99193b5-fd48-4601-a226-34432074af53"
      },
      "source": [
        "(RI-2) Um 'Workplace' é obrigatoriamente um 'Office' ou 'Warehouse' mas não pode ser ambos"
      ]
    },
    {
      "cell_type": "code",
      "execution_count": null,
      "id": "188ec396-6e55-4fd3-b436-dcafe454f677",
      "metadata": {
        "execution": {
          "iopub.execute_input": "2023-06-10T10:22:08.021841Z",
          "iopub.status.busy": "2023-06-10T10:22:08.020164Z",
          "iopub.status.idle": "2023-06-10T10:22:08.676905Z",
          "shell.execute_reply": "2023-06-10T10:22:08.674948Z",
          "shell.execute_reply.started": "2023-06-10T10:22:08.021764Z"
        },
        "id": "188ec396-6e55-4fd3-b436-dcafe454f677",
        "tags": []
      },
      "outputs": [],
      "source": [
        "%%sql\n",
        "-- (RI-2)\n",
        "CREATE OR REPLACE FUNCTION warehouse_check() RETURNS TRIGGER AS\n",
        "$$\n",
        "BEGIN\n",
        "    IF NEW.address in (SELECT wo.address\n",
        "        FROM Workplace wo\n",
        "        WHERE (wo.address IN (SELECT address FROM Office))) THEN\n",
        "            raise exception 'Address cannot be in Warehouse because is already in Office.';\n",
        "    END IF;\n",
        "        RETURN NEW;\n",
        "END\n",
        "$$ LANGUAGE plpgsql;\n",
        "\n",
        "CREATE OR REPLACE FUNCTION office_check() RETURNS TRIGGER AS\n",
        "$$\n",
        "BEGIN\n",
        "    IF NEW.address in (SELECT wo.address\n",
        "        FROM Workplace wo\n",
        "        WHERE (wo.address IN (SELECT address FROM Warehouse))) THEN\n",
        "            raise exception 'Address cannot be in Office because is already in Warehouse.';\n",
        "    END IF;\n",
        "        RETURN NEW;\n",
        "END\n",
        "$$ LANGUAGE plpgsql;\n",
        "\n",
        "DROP TRIGGER IF EXISTS check_workplace_address_office ON Office;\n",
        "DROP TRIGGER IF EXISTS check_workplace_address_warehouse ON warehouse;\n",
        "\n",
        "CREATE CONSTRAINT TRIGGER check_workplace_address_office\n",
        "AFTER INSERT OR UPDATE ON Office\n",
        "DEFERRABLE INITIALLY DEFERRED\n",
        "FOR EACH ROW\n",
        "EXECUTE FUNCTION office_check();\n",
        "\n",
        "CREATE CONSTRAINT TRIGGER check_workplace_address_warehouse\n",
        "AFTER INSERT OR UPDATE ON Warehouse\n",
        "DEFERRABLE INITIALLY DEFERRED\n",
        "FOR EACH ROW\n",
        "EXECUTE FUNCTION warehouse_check();"
      ]
    },
    {
      "cell_type": "markdown",
      "id": "7e659751-bbd0-475a-b36e-8d40d7d58a54",
      "metadata": {
        "id": "7e659751-bbd0-475a-b36e-8d40d7d58a54"
      },
      "source": [
        "(RI-3) Uma 'Order' tem de figurar obrigatoriamente em 'Contains'."
      ]
    },
    {
      "cell_type": "code",
      "execution_count": null,
      "id": "f2993b94-77a8-4b09-b522-f39021c55131",
      "metadata": {
        "execution": {
          "iopub.execute_input": "2023-06-10T10:22:08.680336Z",
          "iopub.status.busy": "2023-06-10T10:22:08.679417Z",
          "iopub.status.idle": "2023-06-10T10:22:09.309263Z",
          "shell.execute_reply": "2023-06-10T10:22:09.307824Z",
          "shell.execute_reply.started": "2023-06-10T10:22:08.680292Z"
        },
        "id": "f2993b94-77a8-4b09-b522-f39021c55131",
        "tags": []
      },
      "outputs": [],
      "source": [
        "%%sql\n",
        "-- (RI-3)\n",
        "CREATE OR REPLACE FUNCTION check_if_order_in_contains()\n",
        "RETURNS TRIGGER AS $$\n",
        "BEGIN\n",
        "  IF NOT EXISTS (\n",
        "    SELECT order_no FROM contains WHERE order_no = NEW.order_no\n",
        "  ) THEN\n",
        "    RAISE EXCEPTION 'Order must be in the \"Contains\" table.';\n",
        "  END IF;\n",
        "  RETURN NEW;\n",
        "END;\n",
        "$$ LANGUAGE plpgsql;\n",
        "\n",
        "DROP TRIGGER IF EXISTS validate_order_in_contains_trigger ON orders;\n",
        "\n",
        "CREATE CONSTRAINT TRIGGER validate_order_in_contains_trigger\n",
        "AFTER INSERT OR UPDATE ON orders\n",
        "DEFERRABLE INITIALLY DEFERRED\n",
        "FOR EACH ROW\n",
        "EXECUTE FUNCTION check_if_order_in_contains();"
      ]
    },
    {
      "cell_type": "markdown",
      "id": "37637f46-470f-431a-9833-4d8665176450",
      "metadata": {
        "id": "37637f46-470f-431a-9833-4d8665176450",
        "tags": []
      },
      "source": [
        "## 2. Consultas SQL"
      ]
    },
    {
      "cell_type": "markdown",
      "id": "f861ee47-e72b-4633-8dac-b4728ed852b9",
      "metadata": {
        "id": "f861ee47-e72b-4633-8dac-b4728ed852b9"
      },
      "source": [
        "Apresente a consulta SQL mais sucinta para cada uma das seguintes questões"
      ]
    },
    {
      "cell_type": "markdown",
      "id": "fd2e1654-059e-4ef5-a63d-5e81280baab0",
      "metadata": {
        "id": "fd2e1654-059e-4ef5-a63d-5e81280baab0"
      },
      "source": [
        "1) Qual o número e nome do(s) cliente(s) com maior valor total de encomendas pagas?"
      ]
    },
    {
      "cell_type": "code",
      "execution_count": null,
      "id": "5b79ced0-279d-4e04-921e-0c831d7a79f2",
      "metadata": {
        "execution": {
          "iopub.execute_input": "2023-06-10T10:36:15.052533Z",
          "iopub.status.busy": "2023-06-10T10:36:15.052167Z",
          "iopub.status.idle": "2023-06-10T10:36:15.653292Z",
          "shell.execute_reply": "2023-06-10T10:36:15.651863Z",
          "shell.execute_reply.started": "2023-06-10T10:36:15.052507Z"
        },
        "id": "5b79ced0-279d-4e04-921e-0c831d7a79f2",
        "tags": []
      },
      "outputs": [],
      "source": [
        "%%sql\n",
        "-- SELECT ...\n",
        "SELECT c.cust_no, c.name, SUM(qty * price) as total\n",
        "FROM customer c\n",
        "  JOIN pay USING (cust_no)\n",
        "  JOIN contains USING (order_no)\n",
        "  JOIN product USING (sku)\n",
        "GROUP BY cust_no\n",
        "HAVING SUM(qty * price) >= ALL(\n",
        "  SELECT SUM(qty * price)\n",
        "  FROM customer\n",
        "    JOIN pay USING (cust_no)\n",
        "    JOIN contains USING (order_no)\n",
        "    JOIN product USING (sku)\n",
        "  GROUP BY cust_no\n",
        ");\n"
      ]
    },
    {
      "cell_type": "markdown",
      "id": "4f863499-c40e-428c-85e8-d2741362906d",
      "metadata": {
        "id": "4f863499-c40e-428c-85e8-d2741362906d"
      },
      "source": [
        "2. Qual o nome dos empregados que processaram encomendas em todos os dias de 2022 em que houve encomendas?"
      ]
    },
    {
      "cell_type": "code",
      "execution_count": null,
      "id": "aadac5e9-d0e4-46e0-bab5-33d00b863884",
      "metadata": {
        "execution": {
          "iopub.execute_input": "2023-06-10T11:15:26.246673Z",
          "iopub.status.busy": "2023-06-10T11:15:26.245695Z",
          "iopub.status.idle": "2023-06-10T11:15:26.851476Z",
          "shell.execute_reply": "2023-06-10T11:15:26.849936Z",
          "shell.execute_reply.started": "2023-06-10T11:15:26.246639Z"
        },
        "id": "aadac5e9-d0e4-46e0-bab5-33d00b863884",
        "tags": []
      },
      "outputs": [],
      "source": [
        "%%sql\n",
        "-- nome dos empregados->quociente\n",
        "--que processaram encomendas --> dividendo\n",
        "--em todos os dias de 2022 em que houve encomendas -->divisor\n",
        "SELECT e.name --quociente\n",
        "FROM employee e\n",
        "WHERE NOT EXISTS (\n",
        "    SELECT date --divisor\n",
        "        FROM process JOIN orders USING(order_no) WHERE EXTRACT(YEAR FROM date) = 2022\n",
        "    EXCEPT\n",
        "    SELECT date --dividendo\n",
        "    FROM employee\n",
        "        JOIN process USING (ssn)\n",
        "        JOIN orders USING (order_no)\n",
        "        WHERE ssn = e.ssn );\n"
      ]
    },
    {
      "cell_type": "markdown",
      "id": "e871bc9e-60c4-465b-a727-9ff2d2115d0b",
      "metadata": {
        "id": "e871bc9e-60c4-465b-a727-9ff2d2115d0b"
      },
      "source": [
        "3. Quantas encomendas foram realizadas mas não pagas em cada mês de 2022?"
      ]
    },
    {
      "cell_type": "code",
      "execution_count": null,
      "id": "3e3e702e-1acb-4004-aa9e-31e4d5916669",
      "metadata": {
        "execution": {
          "iopub.execute_input": "2023-06-10T11:53:27.461391Z",
          "iopub.status.busy": "2023-06-10T11:53:27.460998Z",
          "iopub.status.idle": "2023-06-10T11:53:28.124890Z",
          "shell.execute_reply": "2023-06-10T11:53:28.123316Z",
          "shell.execute_reply.started": "2023-06-10T11:53:27.461364Z"
        },
        "id": "3e3e702e-1acb-4004-aa9e-31e4d5916669",
        "tags": []
      },
      "outputs": [],
      "source": [
        "%%sql\n",
        "WITH months AS (\n",
        "  SELECT generate_series(1, 12) AS month)\n",
        "\n",
        "SELECT COUNT(order_no) AS unpaid_orders, month\n",
        "FROM months\n",
        "    LEFT JOIN orders ON month = EXTRACT(MONTH FROM date)\n",
        "    AND EXTRACT(YEAR FROM date) = 2022\n",
        "    AND order_no NOT IN (SELECT order_no FROM pay)\n",
        "GROUP BY month\n",
        "ORDER BY month;\n"
      ]
    },
    {
      "cell_type": "markdown",
      "id": "97f45cec-fe42-418a-b85d-c9e51807a42c",
      "metadata": {
        "id": "97f45cec-fe42-418a-b85d-c9e51807a42c"
      },
      "source": [
        "## 3. Vistas"
      ]
    },
    {
      "cell_type": "markdown",
      "id": "03062b56-40fa-41c0-aac9-3e77b9049c27",
      "metadata": {
        "id": "03062b56-40fa-41c0-aac9-3e77b9049c27"
      },
      "source": [
        "Crie uma vista que resuma as informações mais importantes sobre as vendas de produtos, combinando informações de diferentes tabelas do esquema de base de dados. A vista deve ter o seguinte esquema:\n",
        "\n",
        "product_sales(sku, order_no, qty, total_price, year, month, day_of_month, day_of_week, city)"
      ]
    },
    {
      "cell_type": "code",
      "execution_count": null,
      "id": "0bbb2226-5de4-4051-b4c0-9130bd4904f5",
      "metadata": {
        "execution": {
          "iopub.execute_input": "2023-06-10T10:00:30.890616Z",
          "iopub.status.busy": "2023-06-10T10:00:30.888957Z",
          "iopub.status.idle": "2023-06-10T10:00:30.899297Z",
          "shell.execute_reply": "2023-06-10T10:00:30.896704Z",
          "shell.execute_reply.started": "2023-06-10T10:00:30.890565Z"
        },
        "id": "0bbb2226-5de4-4051-b4c0-9130bd4904f5",
        "tags": []
      },
      "outputs": [],
      "source": [
        "%%sql\n",
        "DROP VIEW IF EXISTS product_sales;\n",
        "\n",
        "CREATE VIEW product_sales AS\n",
        "SELECT contains.sku, contains.order_no, qty, (qty * price) AS total_price, year, month, day_of_month, day_of_week , city\n",
        "FROM customer\n",
        "    JOIN orders USING (cust_no)\n",
        "    JOIN pay USING(order_no)\n",
        "    JOIN contains USING (order_no)\n",
        "    JOIN product USING (sku),\n",
        "    CAST(EXTRACT(YEAR FROM date) AS INT) AS year,\n",
        "    CAST(EXTRACT(MONTH FROM date) AS INT) AS month,\n",
        "    CAST(EXTRACT(DAY FROM date) AS INT) AS day_of_month,\n",
        "    CAST(EXTRACT(DOW FROM date) AS INT) AS day_of_week,\n",
        "    SUBSTRING(address FROM '[0-9][0-9][0-9][0-9]-[0-9][0-9][0-9] (.+)') AS city;"
      ]
    },
    {
      "cell_type": "markdown",
      "id": "6b615865-602f-4974-9de1-27d0060362ef",
      "metadata": {
        "id": "6b615865-602f-4974-9de1-27d0060362ef",
        "tags": []
      },
      "source": [
        "## 4. Desenvolvimento de Aplicação"
      ]
    },
    {
      "cell_type": "markdown",
      "id": "0bad635d-f5c2-449f-97b0-90d10a4d482b",
      "metadata": {
        "id": "0bad635d-f5c2-449f-97b0-90d10a4d482b"
      },
      "source": [
        "### Explicação da arquitetura da aplicação web, incluindo um link para uma versão de trabalho e as relações entre os vários ficheiros na pasta web/arquivos\n",
        "\n",
        "..."
      ]
    },
    {
      "cell_type": "markdown",
      "source": [
        "![Captura de ecrã de 2023-06-16 17-10-13.png](data:image/png;base64,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)"
      ],
      "metadata": {
        "id": "QL9_sO83xKM6"
      },
      "id": "QL9_sO83xKM6"
    },
    {
      "cell_type": "markdown",
      "source": [
        "A aplicação web desenvolvida no contexto do projeto.\n",
        "Sendo constituído por arquivos Python e HTML (imagem acima), o eixo principal do nosso projeto é o ficheiro app/app.py, que é a responsável por fazer o routing entre as diferentes páginas da app.<br>\n",
        "Ao abri-se o link somos redirecionados para uma página de Login (login.html). Esta página não apresenta nenhuma utilidade na Base de Dados, sendo a sua única função apresentar uma experiência mais realista e emergente.\n",
        "Tendo preenchido os campos, após clicar no botão de Login , somos redirecionados para a página Home, criada pelo index.html, onde temos uma lista de opções para todas as funcionalidades que o site fornece.<br>\n",
        "Ao clicar numa destas opções e no botão de Confirmar, somos redirecionados para uma de quatro tipos de listas , definidas em list.html, lista de produtos, lista de fornecedores, lista de clientes e lista de encomendas não pagas ou um form para inserir o nº de cliente (caso seja para efetuar ou simular o pagamento de uma encomenda) definido no ficheiro insert.html.\n",
        "Em algumas destas listas a interface muda ligeiramente de acordo com a ação que se pretendo fazer , por exemplo, Editar Produto e Adicionar/Remover Produtos leva para a mesma lista porém\n",
        "no Editar temos um botão que redireciona para a função edit_product enquanto que na outra opção temos um botão de adicionar um produto (redireciona para add_product da app.py) e de remover produtos (redireciona para product_remove da app.py).\n",
        "As funções de Adicionar e Remover Cliente são apresentadas na list.html com type=\"customer\" ; Adicionar e Remover Produto com type=\"product\" e purpose=\"insert_remove\"; Editar Produto com type=\"product\" e purpose=\"edit\" ; Fazer Encomenda com type=\"product\" e purpose=\"make_order\" ; Simular Pagamento com type=\"order\". As variáveis **type** e **purpose**, foram criadas com o propósito de serem usadas no ficheiro list.html usando Jinja, de modo a não duplicar ficheiros para as várias listagens.\n",
        "##**Registo e remoção de Clientes**\n",
        " - No Adicionar Cliente (template/add_customer.html chamada pela função add_customer()) basta adquirir todos os atributos do Cliente e inseri-lo na Base de Dados, verificando, caso não sejam nulos, se a morada tem o formato pedido no enunciado e se o número de telemóvel tem 9 dígitos.\n",
        " - No Remover Cliente(na app.py, remove_customer()), por uma questão de simplicidade, optámos por colocar os atributos que podem ser NULL, a NULL e aqueles que não o podem ser, custo_no, name, email, atualizamos-os para uma versão \"masked\", que depois ao lermos conseguimos, em operações futuras, identificar e optar por não os utilizar nas nossas listas.\n",
        "\n",
        "##**Registo e remoção de Produtos e Fornecedores**\n",
        " - No Remover Fornecedores(na app.py, supplier_remove()) a nossa abordagem foi de apagar as Delivery que estavam relacionadas a esse Fornecedor e só depois é que apagamos o Fornecedor.\n",
        " - No Adicionar Fornecedores(template/add_supplier.html chamada pela função add_supplier) a nossa abordagem foi de adicionar um Fornecedor tendo em atenção caso os atributos opicionais (que são todos exceto o TIN do supplier) sejam null. Para estas situações esses atributos são inseridos como \"None\".\n",
        " - No Remover Produtos(na app.py, product_remove()) a nossa abordagem foi de atualizar o SKU dos fornecedores associados ao produto a apagar por NULL, apagar todos os Contains do produto e por fim apagar o produto.\n",
        " - No Adicionar Produtos(template/add_product.html chamada pela função add_product) verificamos se a descrição e o EAN são vazios, uma vez que são dados opcionais e colocamos na Base de Dados os dados obrigatórios e os dados opcionais, que caso sejam vazios têm o valor \"None\"\n",
        "\n",
        "##**Editar Produtos**\n",
        "- No Editar Produto é nos apresentada a lista de produtos em que cada produto tem um botão de editar. Ao clicar somos direcionados para o template/edit.html, chamada pela função edit_product. Nesta página podemos mudar o preço e a descrição do produto selecionado e, ao clicarmos guardar voltamos para a página da lista dos produtos, já com a alteração feita.\n",
        "\n",
        "##**Realização de Encomendas e Simulação do pagamento de Encomendas**\n",
        " - Em relação às duas últimas operações, quando queremos realizar uma encomenda, é primeiramente, pedido o número do cliente que a vai realizar (templates/insert.html).\n",
        " - De seguida somos redirecionados para a lista de produtos(list.html) onde cada produto tem um \"form\" para colocar a quantidade que deseja encomendar.\n",
        "Por fim, temos um botão de Confirmar encomenda que nos devolve à página Home (index.html)\n",
        " - Por último, para simular o pagamento de uma encomenda. Tem um início semelhante à realização de uma encomenda, ou seja, leva-nos para templates/insert.html, porém ao clicarmos em confirmar, esta funcionalidade leva-nos à lista de \"unpaid_orders\" (list.html), que apresenta todas as encomendas que ainda não foram pagas por esse cliente, a partir de aí o cliente apenas tem de clicar no botão de pagar, para simular o pagamento de uma encomenda.\n",
        "Para a simulação de uma encomenda é introduzido a order_no e o cust_no da order na tabela pay. Após clicar, somos redirecionados para o pay.html que nos mostra a confirmação que a order selecionada foi paga.\n",
        "\n",
        "É de extrema importância referir que a app tem um header que está sempre presente em todas as páginas. Este header possui botões para todas as funcionalidades implementadas e é acessível a partir de qualquer página. Até é possível voltar à página home (index.html), se clicarmos no nome da app, Bases de Dados.\n",
        "\n"
      ],
      "metadata": {
        "id": "pVRNjUlXvfTI"
      },
      "id": "pVRNjUlXvfTI"
    },
    {
      "cell_type": "markdown",
      "id": "5dff0f43-90cc-4ab5-b874-c3fb24776728",
      "metadata": {
        "id": "5dff0f43-90cc-4ab5-b874-c3fb24776728"
      },
      "source": [
        "## 5. Consultas OLAP"
      ]
    },
    {
      "cell_type": "markdown",
      "id": "5c8c25ed-b858-4daf-a291-b59e489c0a44",
      "metadata": {
        "id": "5c8c25ed-b858-4daf-a291-b59e489c0a44"
      },
      "source": [
        "Usando a vista desenvolvida para a Questão 3, escreva duas consultas SQL que permitam analisar:"
      ]
    },
    {
      "cell_type": "code",
      "source": [
        "%%sql\n",
        "--Tabela de Dimensão Data\n",
        "DROP TABLE IF EXISTS data;\n",
        "\n",
        "CREATE TABLE data(\n",
        "year INTEGER,\n",
        "month INTEGER,\n",
        "weekday INTEGER,\n",
        "day INTEGER);\n",
        "--Inserção\n",
        "INSERT INTO data (year, month, weekday, day)\n",
        "    SELECT EXTRACT(YEAR FROM dd), EXTRACT(MONTH FROM dd),\n",
        "        EXTRACT(DOW FROM dd), EXTRACT(DAY FROM dd)\n",
        "        FROM GENERATE_SERIES(\n",
        "        ('2022-01-01'::TIMESTAMP),\n",
        "        ('2022-12-31'::TIMESTAMP),\n",
        "        '1 day'::INTERVAL) dd;"
      ],
      "metadata": {
        "id": "4g-m1pRXvpLp"
      },
      "id": "4g-m1pRXvpLp",
      "execution_count": null,
      "outputs": []
    },
    {
      "cell_type": "markdown",
      "id": "bd8d173c-e72f-4e89-8949-e2df3b7b07a3",
      "metadata": {
        "id": "bd8d173c-e72f-4e89-8949-e2df3b7b07a3"
      },
      "source": [
        "1. As quantidade e valores totais de venda de cada produto em 2022, globalmente, por cidade, por mês, dia do mês e dia da semana"
      ]
    },
    {
      "cell_type": "code",
      "execution_count": null,
      "id": "bf12ce01-15c0-4e7c-b329-576dd344ebf6",
      "metadata": {
        "execution": {
          "iopub.execute_input": "2023-06-10T10:00:31.730986Z",
          "iopub.status.busy": "2023-06-10T10:00:31.729903Z",
          "iopub.status.idle": "2023-06-10T10:00:31.737366Z",
          "shell.execute_reply": "2023-06-10T10:00:31.735345Z",
          "shell.execute_reply.started": "2023-06-10T10:00:31.730952Z"
        },
        "id": "bf12ce01-15c0-4e7c-b329-576dd344ebf6",
        "tags": []
      },
      "outputs": [],
      "source": [
        "%%sql\n",
        "SELECT sku, p.city, d.month, d.day AS day_of_month, d.weekday AS day_of_week, COALESCE(SUM(p.qty), 0) AS total_qty, COALESCE(SUM(p.total_price), 0) AS total_product_price\n",
        "FROM product_sales  p RIGHT JOIN data d ON p.year = d.year\n",
        "    AND p.month = d.month AND p.day_of_month = d.day AND p.day_of_week = d.weekday\n",
        "GROUP BY GROUPING SETS((sku, city), (sku, d.month), (sku, d.day), (sku, d.weekday), sku)\n",
        "ORDER BY p.city, d.month, day_of_month, day_of_week;"
      ]
    },
    {
      "cell_type": "markdown",
      "id": "a6f88296-429c-4c1c-9a7a-5cbe9cb65920",
      "metadata": {
        "id": "a6f88296-429c-4c1c-9a7a-5cbe9cb65920"
      },
      "source": [
        "2. O valor médio diário das vendas de todos os produtos em 2022, globalmente, por mês e dia da semana"
      ]
    },
    {
      "cell_type": "code",
      "execution_count": null,
      "id": "7aac0901-02ad-4a40-964e-dc03430f8e77",
      "metadata": {
        "execution": {
          "iopub.execute_input": "2023-06-10T10:00:32.009252Z",
          "iopub.status.busy": "2023-06-10T10:00:32.007088Z",
          "iopub.status.idle": "2023-06-10T10:00:32.019081Z",
          "shell.execute_reply": "2023-06-10T10:00:32.015788Z",
          "shell.execute_reply.started": "2023-06-10T10:00:32.009188Z"
        },
        "id": "7aac0901-02ad-4a40-964e-dc03430f8e77",
        "tags": []
      },
      "outputs": [],
      "source": [
        "%%sql\n",
        "WITH temp AS\n",
        "    (SELECT d.month, d.weekday AS day_of_week, SUM(total_price) AS daily_sum\n",
        "        FROM product_sales p RIGHT JOIN data d ON p.year = d.year\n",
        "        AND p.month = d.month AND p.day_of_month = d.day AND p.day_of_week = d.weekday\n",
        "        GROUP BY d.month, d.weekday)\n",
        "SELECT  month, day_of_week, COALESCE(AVG(daily_sum),0) AS daily_avg FROM temp\n",
        "    GROUP BY ROLLUP(day_of_week, month)\n",
        "    ORDER BY month, day_of_week;"
      ]
    },
    {
      "cell_type": "markdown",
      "id": "5a75300b-51d0-4512-8b50-ffac98d66070",
      "metadata": {
        "id": "5a75300b-51d0-4512-8b50-ffac98d66070",
        "tags": []
      },
      "source": [
        "## 6. Índices"
      ]
    },
    {
      "cell_type": "markdown",
      "id": "35f160cc-30e9-4381-9b3e-0d78ef421af8",
      "metadata": {
        "id": "35f160cc-30e9-4381-9b3e-0d78ef421af8",
        "tags": []
      },
      "source": [
        "Indique, com a devida justificação, que tipo de índice(s), sobre qual(is) atributo(s) e sobre qual(is) tabela(s) faria sentido criar, de forma a agilizar a execução de cada uma das seguintes consultas:"
      ]
    },
    {
      "cell_type": "markdown",
      "id": "6e6e7eb2-c8ba-4d93-a31b-a2384d538fc0",
      "metadata": {
        "id": "6e6e7eb2-c8ba-4d93-a31b-a2384d538fc0"
      },
      "source": [
        "### 6.1\n",
        "SELECT order_no\n",
        "<br>FROM orders\n",
        "<br>JOIN contains USING (order_no)\n",
        "<br>JOIN product USING (SKU)\n",
        "<br>WHERE price > 50 AND\n",
        "<br>EXTRACT(YEAR FROM date) = 2023"
      ]
    },
    {
      "cell_type": "code",
      "source": [
        "%%sql\n",
        "DROP INDEX IF EXISTS idx_orders_date;\n",
        "CREATE INDEX idx_orders_date ON orders USING BTREE(date);\n",
        "DROP INDEX IF EXISTS idx_product_price;\n",
        "CREATE INDEX idx_product_price ON product USING BTREE(price);"
      ],
      "metadata": {
        "id": "oPAPG1E7lMG6"
      },
      "id": "oPAPG1E7lMG6",
      "execution_count": null,
      "outputs": []
    },
    {
      "cell_type": "markdown",
      "id": "b12768c7-efcc-4550-a7c1-7f8bbafd6409",
      "metadata": {
        "id": "b12768c7-efcc-4550-a7c1-7f8bbafd6409"
      },
      "source": [
        "### Tipo de Índice, Atributos & Justificação\n",
        "Para a esta query, optou-se por criar índices no atributo **date** da relação **orders**, e outro no atributo **price** da relação **product**:\n",
        " - No atributo **date** optou-se por um índice **Btree**, pois apesar de a comparação feita a partir da data parecer uma igualdade, acaba por funcionar como uma operação de range pelo facto de se fazer EXTRACT(YEAR FROM date) = 2023 (que é o equivalente a date > 2022-12-31 ^ date < 2024-01-01)\n",
        " - No atrbuto **price** optou-se por um indíce **Btree** pois trata-se de uma comparação de range, sendo os indíces Btree muito mais eficientes para este caso.\n",
        " - Para as claúsulas **JOIN** optou-se por não se adiconar nenhum indíce, visto que as operações de JOIN são feitas usando chaves primárias, que são por default indíces Btree."
      ]
    },
    {
      "cell_type": "markdown",
      "id": "89f6cb2b-8425-42f8-810c-9c9e5797b686",
      "metadata": {
        "id": "89f6cb2b-8425-42f8-810c-9c9e5797b686"
      },
      "source": [
        "### 6.2\n",
        "SELECT order_no, SUM(qty*price)\n",
        "<br>FROM contains\n",
        "<br>JOIN product USING (SKU)\n",
        "<br>WHERE name LIKE ‘A%’\n",
        "<br>GROUP BY order_no;"
      ]
    },
    {
      "cell_type": "code",
      "source": [
        "%%sql\n",
        "DROP INDEX IF EXISTS idx_product_name;\n",
        "CREATE INDEX idx_product_name ON product USING BTREE(name);"
      ],
      "metadata": {
        "id": "u04g0KNwlO2Z"
      },
      "id": "u04g0KNwlO2Z",
      "execution_count": null,
      "outputs": []
    },
    {
      "cell_type": "markdown",
      "id": "1af12988-e1f5-4a72-835d-9aba30d0ce88",
      "metadata": {
        "id": "1af12988-e1f5-4a72-835d-9aba30d0ce88"
      },
      "source": [
        "### Tipo de Índice, Atributos & Justificação\n",
        "\n",
        "Para esta query, optou-se por criar um indíce para a relação **product**, no seu atrbuto **name**:\n",
        " - Optou-se pela indexação de **name**, em **product**, via **BTree**, pois a comparação pretendida irá englobar todo um intervalo de nomes que comecem por A, pelo que aqui um Hash não será tão eficaz, porque não se pretende uma comparação de igualdade especifíca.\n",
        " - Para a cláusula **GROUP BY**, não se considerou necessário a criação de um indíce, visto que o atributo **order_no** da relação **contains**, faz parte de um indíce composto BTree (pela chave primária da relação contains ser (order_no, SKU)).\n",
        " - Para a cláusula **JOIN** também não se optou pela criação de um índice, pela mesma razão do ponto **6.1**"
      ]
    }
  ],
  "metadata": {
    "colab": {
      "provenance": []
    },
    "kernelspec": {
      "display_name": "Python 3 (ipykernel)",
      "language": "python",
      "name": "python3"
    },
    "language_info": {
      "codemirror_mode": {
        "name": "ipython",
        "version": 3
      },
      "file_extension": ".py",
      "mimetype": "text/x-python",
      "name": "python",
      "nbconvert_exporter": "python",
      "pygments_lexer": "ipython3",
      "version": "3.10.11"
    }
  },
  "nbformat": 4,
  "nbformat_minor": 5
}